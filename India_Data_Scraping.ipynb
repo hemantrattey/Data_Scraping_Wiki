{
 "cells": [
  {
   "cell_type": "code",
   "execution_count": 1,
   "metadata": {},
   "outputs": [],
   "source": [
    "import pandas as pd\n",
    "import requests\n",
    "from bs4 import BeautifulSoup as bs"
   ]
  },
  {
   "cell_type": "code",
   "execution_count": 30,
   "metadata": {},
   "outputs": [],
   "source": [
    "url = 'https://en.wikipedia.org/wiki/Delhi'\n",
    "response = requests.get(url)\n",
    "\n",
    "soup = bs(response.text)\n",
    "#print(soup.prettify())"
   ]
  },
  {
   "cell_type": "code",
   "execution_count": 32,
   "metadata": {},
   "outputs": [
    {
     "data": {
      "text/plain": [
       "'Delhi'"
      ]
     },
     "execution_count": 32,
     "metadata": {},
     "output_type": "execute_result"
    }
   ],
   "source": [
    "state = soup.find('table').find('th').get_text()\n",
    "state"
   ]
  },
  {
   "cell_type": "code",
   "execution_count": 84,
   "metadata": {},
   "outputs": [
    {
     "data": {
      "text/plain": [
       "'1,484.0'"
      ]
     },
     "execution_count": 84,
     "metadata": {},
     "output_type": "execute_result"
    }
   ],
   "source": [
    "import re\n",
    "area_regex = re.compile('Area')\n",
    "#area = soup.find(text = area_regex).parent.previous.previous.parent.text\n",
    "area = soup.find(text = area_regex).parent.parent.next_sibling.find('td').get_text().replace('\\xa0', '').split(' ')[0].replace('km2','')\n",
    "area"
   ]
  },
  {
   "cell_type": "code",
   "execution_count": 82,
   "metadata": {},
   "outputs": [
    {
     "data": {
      "text/plain": [
       "16787941"
      ]
     },
     "execution_count": 82,
     "metadata": {},
     "output_type": "execute_result"
    }
   ],
   "source": [
    "population = int(soup.find(text = 'Population').parent.parent.next_sibling.find('td').get_text().replace(',', ''))\n",
    "population"
   ]
  },
  {
   "cell_type": "code",
   "execution_count": 96,
   "metadata": {},
   "outputs": [
    {
     "data": {
      "text/plain": [
       "'7.80 lakh crore'"
      ]
     },
     "execution_count": 96,
     "metadata": {},
     "output_type": "execute_result"
    }
   ],
   "source": [
    "gdp = soup.find(text = 'Nominal').parent.parent.next_sibling.get_text(strip = True).replace('₹', '').split('(')[0]\n",
    "gdp"
   ]
  },
  {
   "cell_type": "code",
   "execution_count": 105,
   "metadata": {},
   "outputs": [
    {
     "data": {
      "text/plain": [
       "str"
      ]
     },
     "execution_count": 105,
     "metadata": {},
     "output_type": "execute_result"
    }
   ],
   "source": [
    "literacy_rate = soup.find(text='Literacy').parent.parent.next_sibling.get_text().split('[')[0]\n",
    "literacy_rate"
   ]
  },
  {
   "cell_type": "code",
   "execution_count": 106,
   "metadata": {},
   "outputs": [],
   "source": [
    "def get_state_name(table):\n",
    "    return table.find('th').get_text()\n",
    "\n",
    "def get_area(table):\n",
    "    return table.find(text = area_regex).parent.parent.next_sibling.find('td').get_text().replace('\\xa0', '').split(' ')[0].replace('km2','')\n",
    "\n",
    "def get_population(table):\n",
    "    return int(table.find(text = 'Population').parent.parent.next_sibling.find('td').get_text().replace(',', ''))\n",
    "\n",
    "def get_gdp(table):\n",
    "    return table.find(text = 'Nominal').parent.parent.next_sibling.get_text(strip = True).replace('₹', '').split('(')[0]\n",
    "\n",
    "def get_literacy_rate(table):\n",
    "    return table.find(text='Literacy').parent.parent.next_sibling.get_text().split('[')[0]"
   ]
  },
  {
   "cell_type": "code",
   "execution_count": null,
   "metadata": {},
   "outputs": [],
   "source": [
    "def get_all_state_info(url):\n",
    "        state_soup = "
   ]
  }
 ],
 "metadata": {
  "kernelspec": {
   "display_name": "Python 3",
   "language": "python",
   "name": "python3"
  },
  "language_info": {
   "codemirror_mode": {
    "name": "ipython",
    "version": 3
   },
   "file_extension": ".py",
   "mimetype": "text/x-python",
   "name": "python",
   "nbconvert_exporter": "python",
   "pygments_lexer": "ipython3",
   "version": "3.9.0"
  }
 },
 "nbformat": 4,
 "nbformat_minor": 4
}
